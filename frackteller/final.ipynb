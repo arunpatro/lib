{
 "cells": [
  {
   "cell_type": "code",
   "execution_count": 1,
   "metadata": {},
   "outputs": [],
   "source": [
    "import cv2\n",
    "import numpy as np\n",
    "\n",
    "def padimg(img, x=4):\n",
    "    i = img[x:-x,x:-x,:]\n",
    "    i = np.pad(i, ((x, x), (x, x), (0, 0)), 'constant', constant_values=255)\n",
    "    return i\n",
    "\n",
    "def frackteller(img, n=5):\n",
    "    one = recursiveFunc(img, n)\n",
    "    two = np.rot90(one)\n",
    "    three = np.rot90(two)\n",
    "    four = np.rot90(three)\n",
    "    \n",
    "    final = np.hstack([np.vstack([two, three]), np.vstack([one, four])])\n",
    "    return final\n",
    "    \n",
    "def recursiveFunc(img, n):\n",
    "    if n == 1:\n",
    "        topright = 255 * np.ones(img.shape).astype(np.uint8)\n",
    "        img_p = padimg(img)\n",
    "        final = np.hstack([np.vstack([topright, img_p]), np.vstack([topright, topright])])\n",
    "        return final\n",
    "    else:\n",
    "        imghalf = cv2.resize(img, None, fx=0.5,fy=0.5)\n",
    "        top = recursiveFunc(imghalf, n-1)\n",
    "        right = recursiveFunc(imghalf, n-1)\n",
    "        topright = 255 * np.ones(img.shape).astype(np.uint8)\n",
    "                           \n",
    "        top_p = padimg(top)\n",
    "        right_p = padimg(right)\n",
    "        img_p = padimg(img)\n",
    "        \n",
    "        final = np.hstack([np.vstack([top_p, img_p]), np.vstack([topright, right_p])])\n",
    "        return final"
   ]
  },
  {
   "cell_type": "code",
   "execution_count": 2,
   "metadata": {},
   "outputs": [
    {
     "data": {
      "text/plain": [
       "True"
      ]
     },
     "execution_count": 2,
     "metadata": {},
     "output_type": "execute_result"
    }
   ],
   "source": [
    "img = cv2.imread('gudly.jpeg')\n",
    "img = cv2.resize(img, (2048//2, 2048//2))\n",
    "zz = frackteller(img, 8)\n",
    "cv2.imwrite('outg.png', zz)"
   ]
  }
 ],
 "metadata": {
  "kernelspec": {
   "display_name": "Python 3",
   "language": "python",
   "name": "python3"
  },
  "language_info": {
   "codemirror_mode": {
    "name": "ipython",
    "version": 3
   },
   "file_extension": ".py",
   "mimetype": "text/x-python",
   "name": "python",
   "nbconvert_exporter": "python",
   "pygments_lexer": "ipython3",
   "version": "3.7.0"
  }
 },
 "nbformat": 4,
 "nbformat_minor": 4
}
