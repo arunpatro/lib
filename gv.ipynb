{
 "cells": [
  {
   "cell_type": "code",
   "execution_count": 10,
   "metadata": {},
   "outputs": [],
   "source": [
    "import csv"
   ]
  },
  {
   "cell_type": "code",
   "execution_count": 11,
   "metadata": {},
   "outputs": [],
   "source": [
    "def wiki(num, q, a, p, y):\n",
    "#     print list\n",
    "    new = '\\n'\n",
    "    val = '|' + str(num) + new + '|' + q + new + '|' + a + new + '|' + p + new + '|' + y + new\n",
    "    return val\n",
    "\n",
    "step = '|-\\n'\n",
    "\n",
    "start = '''\n",
    "== B. Tech. ==\n",
    "{| class=\"wikitable\"\n",
    "|-\n",
    "! #\n",
    "! Question\n",
    "! Answer\n",
    "! Professor\n",
    "! Year\n",
    "|-\n",
    "'''\n",
    "\n",
    "end = '''|}'''\n",
    "\n",
    "\n",
    "def getData(filename, q_col_idx, a_col_idx, p_col_idx, y_col_idx=None, year=None):\n",
    "    tsvfile = open(filename, 'rb')\n",
    "    spamreader = csv.reader(tsvfile, dialect=\"excel-tab\")\n",
    "    a = []\n",
    "    for row in spamreader:\n",
    "        a.append(row)\n",
    "    t = a[0]\n",
    "    b = a[1:]\n",
    "    q = [i[q_col_idx] for i in b]\n",
    "    a = [i[a_col_idx] for i in b]\n",
    "    p = [i[p_col_idx] for i in b]\n",
    "    y = [i[y_col_idx] if y_col_idx else year for i in b]\n",
    "    return q, a, p, y\n",
    "\n",
    "def getMarkdown(filename, q, a, p, y=None):\n",
    "    num = 1\n",
    "    v = ''\n",
    "    for i in range(len(q)):\n",
    "        if q[i]:\n",
    "            v += wiki(num, q[i], a[i], p[i], y[i]) + step\n",
    "            num += 1\n",
    "    g = open(filename, 'w')\n",
    "    g.write(start + v + end)\n",
    "    g.close()       "
   ]
  },
  {
   "cell_type": "code",
   "execution_count": 5,
   "metadata": {},
   "outputs": [],
   "source": [
    "q, a, p, y = getData('Downloads/EE Grand Viva Questions - Sheet1.tsv', 1, 2, 3, 6)"
   ]
  },
  {
   "cell_type": "code",
   "execution_count": 6,
   "metadata": {},
   "outputs": [],
   "source": [
    "r_1 = getData('Downloads/Grand_Viva_2017 - Sheet1.tsv', 1, 2, 3, year='Apr 2017')\n",
    "q += r_1[0]; a += r_1[1]; p += r_1[2]; y += r_1[3];\n",
    "r_2 = getData('Downloads/GV questions - Sheet1.tsv', 0, 1, 3, year='Apr 2014')\n",
    "q += r_2[0]; a += r_2[1]; p += r_2[2]; y += r_2[3];"
   ]
  },
  {
   "cell_type": "code",
   "execution_count": 7,
   "metadata": {},
   "outputs": [],
   "source": [
    "getMarkdown('ee.md', q, a, p, y)"
   ]
  },
  {
   "cell_type": "code",
   "execution_count": 48,
   "metadata": {},
   "outputs": [],
   "source": [
    "q, a, p = getData('Downloads/Department of Mathematics - Grand Viva Responses - Sheet1.tsv', 3, 4, 2)"
   ]
  },
  {
   "cell_type": "code",
   "execution_count": 78,
   "metadata": {},
   "outputs": [],
   "source": [
    "getMarkdown('math.md', q, a, p)"
   ]
  },
  {
   "cell_type": "code",
   "execution_count": 12,
   "metadata": {},
   "outputs": [],
   "source": [
    "q, a, p, y = getData('Downloads/CSE GV - Sheet1.tsv', 0, 1, 2, 3)"
   ]
  },
  {
   "cell_type": "code",
   "execution_count": 13,
   "metadata": {},
   "outputs": [],
   "source": [
    "getMarkdown('cse.md', q, a, p, y)"
   ]
  },
  {
   "cell_type": "code",
   "execution_count": null,
   "metadata": {},
   "outputs": [],
   "source": []
  }
 ],
 "metadata": {
  "kernelspec": {
   "display_name": "Python 2",
   "language": "python",
   "name": "python2"
  },
  "language_info": {
   "codemirror_mode": {
    "name": "ipython",
    "version": 2
   },
   "file_extension": ".py",
   "mimetype": "text/x-python",
   "name": "python",
   "nbconvert_exporter": "python",
   "pygments_lexer": "ipython2",
   "version": "2.7.10"
  }
 },
 "nbformat": 4,
 "nbformat_minor": 2
}
